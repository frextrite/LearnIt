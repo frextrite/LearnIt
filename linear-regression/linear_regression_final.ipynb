{
 "cells": [
  {
   "cell_type": "code",
   "execution_count": 1,
   "metadata": {},
   "outputs": [],
   "source": [
    "import numpy as np"
   ]
  },
  {
   "cell_type": "code",
   "execution_count": 2,
   "metadata": {},
   "outputs": [],
   "source": [
    "class LinearRegression:\n",
    "    num_iterations = 0\n",
    "    m = 0\n",
    "    c = 0\n",
    "    learning_rate = 0\n",
    "    coef_ = 0\n",
    "    intercept_ = 0\n",
    "    \n",
    "    # initialize all variables\n",
    "    def __init__(self, num_iterations = 1000, learning_rate=0.0001):\n",
    "        self.m = np.random.randint(0,100)\n",
    "        self.c = np.random.randint(0,100)\n",
    "        self.learning_rate = learning_rate\n",
    "        self.num_iterations = num_iterations\n",
    "        self.coef_ = np.array(self.m).reshape(1)\n",
    "        self.intercept_ = np.array(self.c).reshape(1)\n",
    "        \n",
    "    # m and c are calculated using gradient descent technique\n",
    "    def gradient_descent(self, m_current, c_current, x_val, y_val, previous_error):\n",
    "        m_gradient = 0\n",
    "        c_gradient = 0\n",
    "        num_points = len(x_val)\n",
    "        N = float(num_points)\n",
    "        for i in range(num_points):\n",
    "            x = x_val[i][0]\n",
    "            y = y_val[i]\n",
    "            # error = (1/N) * (y_original-y_predicted)**2 where y_predicted = m*x + c\n",
    "            m_gradient += (-2/N) * x * (y - (m_current*x + c_current))\n",
    "            c_gradient += (-2/N) * (y - (m_current*x + c_current))\n",
    "        m = m_current - (self.learning_rate*m_gradient)\n",
    "        c = c_current - (self.learning_rate*c_gradient)\n",
    "        current_error = self.r2_score(m, c, X_train, y_train)\n",
    "        # print(current_error)\n",
    "        \n",
    "        # dynamic learning rate\n",
    "        if(current_error >= previous_error):\n",
    "            self.learning_rate /= 5\n",
    "            m = m_current\n",
    "            c = c_current\n",
    "        else:\n",
    "             self.learning_rate *= 2\n",
    "                \n",
    "        # print(self.learning_rate)\n",
    "        # print(\"Slope:\",m,\"Intercept:\",c)\n",
    "        return [m, c, current_error]\n",
    "\n",
    "    # train the model\n",
    "    def fit(self, X_train, y_train):\n",
    "        max_error = 10**(-6)\n",
    "        error = max_error\n",
    "        prev_error = 0\n",
    "        while error - prev_error >= max_error:\n",
    "            prev_error = error\n",
    "            self.m, self.c, error = self.gradient_descent(self.m, self.c, X_train, y_train, error)\n",
    "            if(error == prev_error or prev_error > error):\n",
    "                prev_error = 0\n",
    "            \n",
    "            \n",
    "        self.coef_ = np.array(self.m).reshape(1)\n",
    "        self.intercept_ = np.array(self.c).reshape(1)\n",
    "        \n",
    "    # prediction values\n",
    "    def predict(self, x_val):\n",
    "        num_points = len(x_val)\n",
    "        # placeholder for predicted values\n",
    "        predictions = np.zeros(num_points)\n",
    "        for i in range(num_points):\n",
    "            x = x_val[i][0]\n",
    "            predictions[i] = self.m*x + self.c\n",
    "        return predictions\n",
    "    \n",
    "    # r2 error\n",
    "    def r2_score(self, m, c, x_val, y_val):\n",
    "        error = 0\n",
    "        N = len(x_val)\n",
    "        for i in range(N):\n",
    "            x = x_val[i][0]\n",
    "            y = y_val[i]\n",
    "            error += (1/float(N)) * ((y - (m*x + c))**2)\n",
    "\n",
    "        return error"
   ]
  },
  {
   "cell_type": "code",
   "execution_count": 3,
   "metadata": {},
   "outputs": [],
   "source": [
    "import pandas as pd\n",
    "df = pd.read_csv(\"train.csv\")\n",
    "df.dropna(inplace=True)\n",
    "X_train = np.array(df.x).reshape(-1,1)\n",
    "y_train = np.array(df.y)"
   ]
  },
  {
   "cell_type": "code",
   "execution_count": 4,
   "metadata": {},
   "outputs": [],
   "source": [
    "test = pd.read_csv(\"test.csv\")\n",
    "X_test = np.array(test.x).reshape(-1,1)\n",
    "y_test = np.array(test.y)"
   ]
  },
  {
   "cell_type": "code",
   "execution_count": 5,
   "metadata": {},
   "outputs": [],
   "source": [
    "reg = LinearRegression(learning_rate=0.01, num_iterations=40000)"
   ]
  },
  {
   "cell_type": "code",
   "execution_count": 6,
   "metadata": {},
   "outputs": [
    {
     "data": {
      "text/plain": [
       "array([49])"
      ]
     },
     "execution_count": 6,
     "metadata": {},
     "output_type": "execute_result"
    }
   ],
   "source": [
    "reg.coef_"
   ]
  },
  {
   "cell_type": "code",
   "execution_count": 7,
   "metadata": {},
   "outputs": [
    {
     "data": {
      "text/plain": [
       "array([24])"
      ]
     },
     "execution_count": 7,
     "metadata": {},
     "output_type": "execute_result"
    }
   ],
   "source": [
    "reg.intercept_"
   ]
  },
  {
   "cell_type": "code",
   "execution_count": 8,
   "metadata": {},
   "outputs": [],
   "source": [
    "reg.fit(X_train, y_train)"
   ]
  },
  {
   "cell_type": "code",
   "execution_count": 9,
   "metadata": {},
   "outputs": [
    {
     "data": {
      "text/plain": [
       "array([ 0.98200498])"
      ]
     },
     "execution_count": 9,
     "metadata": {},
     "output_type": "execute_result"
    }
   ],
   "source": [
    "reg.coef_"
   ]
  },
  {
   "cell_type": "code",
   "execution_count": 10,
   "metadata": {},
   "outputs": [
    {
     "data": {
      "text/plain": [
       "array([ 1.12674717])"
      ]
     },
     "execution_count": 10,
     "metadata": {},
     "output_type": "execute_result"
    }
   ],
   "source": [
    "reg.intercept_"
   ]
  },
  {
   "cell_type": "code",
   "execution_count": 11,
   "metadata": {},
   "outputs": [],
   "source": [
    "predictions = reg.predict(X_test)"
   ]
  },
  {
   "cell_type": "code",
   "execution_count": 13,
   "metadata": {},
   "outputs": [
    {
     "data": {
      "text/plain": [
       "[<matplotlib.lines.Line2D at 0x265957242e8>]"
      ]
     },
     "execution_count": 13,
     "metadata": {},
     "output_type": "execute_result"
    },
    {
     "data": {
      "image/png": "[encoded data removed]",
      "text/plain": [
       "<matplotlib.figure.Figure at 0x26595739c88>"
      ]
     },
     "metadata": {},
     "output_type": "display_data"
    }
   ],
   "source": [
    "import matplotlib.pyplot as plt\n",
    "plt.scatter(df.x, df.y, color='b')\n",
    "plt.plot(test.x, predictions, color='black')"
   ]
  },
  {
   "cell_type": "code",
   "execution_count": 14,
   "metadata": {},
   "outputs": [
    {
     "name": "stdout",
     "output_type": "stream",
     "text": [
      "1.00065638186 -0.107265464301\n"
     ]
    }
   ],
   "source": [
    "# Slope and Intercept calculated directly using formula\n",
    "from statistics import mean\n",
    "numerator_slope = ( mean(X_train[:,0]) * mean(y_train) ) - ( mean(X_train[:,0] * y_train) )\n",
    "denominator = ( mean(X_train[:,0]) * mean(X_train[:,0]) ) - ( mean(X_train[:,0] * X_train[:,0]) )\n",
    "slope = numerator_slope/denominator\n",
    "intercept = mean(y_train) - slope * mean(X_train[:,0])\n",
    "print(slope, intercept)"
   ]
  },
  {
   "cell_type": "code",
   "execution_count": null,
   "metadata": {},
   "outputs": [],
   "source": []
  }
 ],
 "metadata": {
  "kernelspec": {
   "display_name": "Python 3",
   "language": "python",
   "name": "python3"
  },
  "language_info": {
   "codemirror_mode": {
    "name": "ipython",
    "version": 3
   },
   "file_extension": ".py",
   "mimetype": "text/x-python",
   "name": "python",
   "nbconvert_exporter": "python",
   "pygments_lexer": "ipython3",
   "version": "3.6.4"
  }
 },
 "nbformat": 4,
 "nbformat_minor": 2
}
